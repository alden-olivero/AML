{
 "cells": [
  {
   "cell_type": "code",
   "execution_count": 3,
   "id": "5da2bd1c",
   "metadata": {},
   "outputs": [],
   "source": [
    "import requests\n",
    "from datetime import datetime,timedelta\n",
    "\n",
    "\n",
    "            "
   ]
  },
  {
   "cell_type": "code",
   "execution_count": 16,
   "id": "0e13a7be",
   "metadata": {},
   "outputs": [
    {
     "name": "stdout",
     "output_type": "stream",
     "text": [
      "Weather in dubai on 2023-06-10:\n",
      "Temperature in 33.6 °C:\n",
      "humidity : 50.0%\n",
      "Weather description :Sunny\n",
      "-------------------------\n",
      "Weather in dubai on 2023-06-11:\n",
      "Temperature in 33.7 °C:\n",
      "humidity : 51.0%\n",
      "Weather description :Sunny\n",
      "-------------------------\n",
      "Weather in dubai on 2023-06-12:\n",
      "Temperature in 33.9 °C:\n",
      "humidity : 55.0%\n",
      "Weather description :Sunny\n",
      "-------------------------\n",
      "Weather in dubai on 2023-06-13:\n",
      "Temperature in 34.1 °C:\n",
      "humidity : 57.0%\n",
      "Weather description :Sunny\n",
      "-------------------------\n",
      "Weather in dubai on 2023-06-14:\n",
      "Temperature in 33.5 °C:\n",
      "humidity : 64.0%\n",
      "Weather description :Sunny\n",
      "-------------------------\n",
      "Weather in dubai on 2023-06-15:\n",
      "Temperature in 33.0 °C:\n",
      "humidity : 64.0%\n",
      "Weather description :Sunny\n",
      "-------------------------\n",
      "Weather in dubai on 2023-06-16:\n",
      "Temperature in 33.3 °C:\n",
      "humidity : 65.0%\n",
      "Weather description :Sunny\n",
      "-------------------------\n",
      "Weather in dubai on 2023-06-17:\n",
      "Temperature in 32.9 °C:\n",
      "humidity : 64.0%\n",
      "Weather description :Sunny\n",
      "-------------------------\n",
      "Weather in dubai on 2023-06-18:\n",
      "Temperature in 32.3 °C:\n",
      "humidity : 57.0%\n",
      "Weather description :Sunny\n",
      "-------------------------\n",
      "Weather in dubai on 2023-06-19:\n",
      "Temperature in 33.3 °C:\n",
      "humidity : 56.0%\n",
      "Weather description :Sunny\n",
      "-------------------------\n",
      "Weather in dubai on 2023-06-20:\n",
      "Temperature in 34.0 °C:\n",
      "humidity : 53.0%\n",
      "Weather description :Sunny\n",
      "-------------------------\n"
     ]
    }
   ],
   "source": [
    "def get_weather_data(api_key,city):\n",
    "    end_date= datetime.now().strftime(\"%Y-%m-%d\")\n",
    "    start_date= (datetime.now()-timedelta(days=10)).strftime(\"%Y-%m-%d\")\n",
    "    base_url=f\"http://api.weatherapi.com/v1/history.json?key={api_key}&q={city}&dt={start_date}&end_dt={end_date}\"\n",
    "    response=requests.get(base_url)\n",
    "    data=response.json()\n",
    "    \n",
    "    if \"error\" in data:\n",
    "        print(f\"Error Occured:{data['error']['message']}\")\n",
    "    else:\n",
    "        forecast_days=data[\"forecast\"][\"forecastday\"]\n",
    "        for day in forecast_days:\n",
    "            date=day[\"date\"]\n",
    "            temperature=day[\"day\"][\"avgtemp_c\"]\n",
    "            humidity=day[\"day\"][\"avghumidity\"]\n",
    "            weather_description=day[\"day\"][\"condition\"][\"text\"]\n",
    "            \n",
    "            #print the weather information for each day\n",
    "            \n",
    "            print(f\"Weather in {city} on {date}:\")\n",
    "            print(f\"Temperature in {temperature} °C:\")\n",
    "            print(f\"humidity : {humidity}%\")\n",
    "            print(f\"Weather description :{weather_description}\")\n",
    "            print(\"-------------------------\")\n",
    "api_key=\"956a95a24cd246f798d85043232006\"\n",
    "city=\"kar\"\n",
    "get_weather_data(api_key,city)\n",
    "            "
   ]
  },
  {
   "cell_type": "code",
   "execution_count": null,
   "id": "527c09c8",
   "metadata": {},
   "outputs": [],
   "source": []
  },
  {
   "cell_type": "code",
   "execution_count": null,
   "id": "ea00c11d",
   "metadata": {},
   "outputs": [],
   "source": []
  },
  {
   "cell_type": "code",
   "execution_count": null,
   "id": "fa899555",
   "metadata": {},
   "outputs": [],
   "source": []
  },
  {
   "cell_type": "code",
   "execution_count": null,
   "id": "84bb72ae",
   "metadata": {},
   "outputs": [],
   "source": []
  },
  {
   "cell_type": "code",
   "execution_count": null,
   "id": "714120dd",
   "metadata": {},
   "outputs": [],
   "source": []
  }
 ],
 "metadata": {
  "kernelspec": {
   "display_name": "Python 3 (ipykernel)",
   "language": "python",
   "name": "python3"
  },
  "language_info": {
   "codemirror_mode": {
    "name": "ipython",
    "version": 3
   },
   "file_extension": ".py",
   "mimetype": "text/x-python",
   "name": "python",
   "nbconvert_exporter": "python",
   "pygments_lexer": "ipython3",
   "version": "3.9.16"
  }
 },
 "nbformat": 4,
 "nbformat_minor": 5
}
