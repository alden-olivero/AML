{
 "cells": [
  {
   "cell_type": "code",
   "execution_count": 4,
   "id": "937f2afa",
   "metadata": {},
   "outputs": [],
   "source": [
    "from bs4 import BeautifulSoup\n",
    "html_content = \"\"\" \n",
    "<html>\n",
    "<head>\n",
    "<title>Example</title>\n",
    "</head> \n",
    "<body>\n",
    "<p class = 'paragraph'> THis is a paragraph.</p>\n",
    "<p class = 'paragraph'> THis is a paragraph 2.</p>\n",
    "<ul> \n",
    "<li> Item 1 </li>\n",
    "<li> Item 2 </li> \n",
    "</ul>\n",
    "</body> \n",
    "</html> \n",
    "\"\"\"\n",
    "soup = BeautifulSoup(html_content,'html.parser')"
   ]
  },
  {
   "cell_type": "code",
   "execution_count": 5,
   "id": "f10de20a",
   "metadata": {},
   "outputs": [
    {
     "data": {
      "text/plain": [
       "'Example'"
      ]
     },
     "execution_count": 5,
     "metadata": {},
     "output_type": "execute_result"
    }
   ],
   "source": [
    "title=soup.title.text\n",
    "title"
   ]
  },
  {
   "cell_type": "code",
   "execution_count": 6,
   "id": "b68f9a46",
   "metadata": {},
   "outputs": [
    {
     "data": {
      "text/plain": [
       "' THis is a paragraph.'"
      ]
     },
     "execution_count": 6,
     "metadata": {},
     "output_type": "execute_result"
    }
   ],
   "source": [
    "para=soup.p\n",
    "para.text"
   ]
  },
  {
   "cell_type": "code",
   "execution_count": 12,
   "id": "3fd6cdd2",
   "metadata": {},
   "outputs": [
    {
     "data": {
      "text/plain": [
       "<p class=\"paragraph\"> THis is a paragraph.</p>"
      ]
     },
     "execution_count": 12,
     "metadata": {},
     "output_type": "execute_result"
    }
   ],
   "source": [
    "paragraph=soup.find('p')\n",
    "\n",
    "paragraph"
   ]
  },
  {
   "cell_type": "code",
   "execution_count": 13,
   "id": "f1324c39",
   "metadata": {},
   "outputs": [
    {
     "data": {
      "text/plain": [
       "[<p class=\"paragraph\"> THis is a paragraph.</p>,\n",
       " <p class=\"paragraph\"> THis is a paragraph 2.</p>]"
      ]
     },
     "execution_count": 13,
     "metadata": {},
     "output_type": "execute_result"
    }
   ],
   "source": [
    "paragraphs=soup.find_all('p')\n",
    "paragraphs"
   ]
  },
  {
   "cell_type": "code",
   "execution_count": 14,
   "id": "a05a1632",
   "metadata": {},
   "outputs": [],
   "source": [
    "#parent sibling"
   ]
  },
  {
   "cell_type": "code",
   "execution_count": 18,
   "id": "e0d6d590",
   "metadata": {},
   "outputs": [],
   "source": [
    "from bs4 import BeautifulSoup\n",
    "html_doc='''\n",
    "<html>\n",
    "<body>\n",
    "<div class='my_class'>\n",
    "<h1>welcome to BeautifulSoup</h1>\n",
    "<p>this is a example paragraph</p>\n",
    "<ul>\n",
    "<li>Item 1</li>\n",
    "<li>Item 2</li>\n",
    "<li>Item 3</li>\n",
    "</ul>\n",
    "</div>\n",
    "</body>\n",
    "</html>\n",
    "'''\n",
    "#parser object\n",
    "soup=BeautifulSoup(html_doc,'html.parser')"
   ]
  },
  {
   "cell_type": "code",
   "execution_count": 19,
   "id": "a8298bde",
   "metadata": {},
   "outputs": [
    {
     "name": "stdout",
     "output_type": "stream",
     "text": [
      "<div class=\"my_class\">\n",
      "<h1>welcome to BeautifulSoup</h1>\n",
      "<p>this is a example paragraph</p>\n",
      "<ul>\n",
      "<li>Item 1</li>\n",
      "<li>Item 2</li>\n",
      "<li>Item 3</li>\n",
      "</ul>\n",
      "</div>\n"
     ]
    }
   ],
   "source": [
    "#accessing parent element\n",
    "h1=soup.h1\n",
    "parent_div=h1.parent\n",
    "print(parent_div)"
   ]
  },
  {
   "cell_type": "code",
   "execution_count": 21,
   "id": "356d460d",
   "metadata": {},
   "outputs": [
    {
     "name": "stdout",
     "output_type": "stream",
     "text": [
      "<h1>welcome to BeautifulSoup</h1>\n"
     ]
    }
   ],
   "source": [
    "para=soup.p\n",
    "prev_sibling=para.find_previous_sibling()\n",
    "print(prev_sibling)"
   ]
  },
  {
   "cell_type": "code",
   "execution_count": 26,
   "id": "72367e83",
   "metadata": {},
   "outputs": [
    {
     "name": "stdout",
     "output_type": "stream",
     "text": [
      "None\n"
     ]
    }
   ],
   "source": [
    "ul=soup.ul\n",
    "next_sibling=ul.find_next_sibling()\n",
    "print(next_sibling)"
   ]
  },
  {
   "cell_type": "markdown",
   "id": "0e3d2911",
   "metadata": {},
   "source": [
    "# CHild Navigator"
   ]
  },
  {
   "cell_type": "code",
   "execution_count": 27,
   "id": "7e4e416c",
   "metadata": {},
   "outputs": [
    {
     "name": "stdout",
     "output_type": "stream",
     "text": [
      "\n",
      "\n",
      "<h1>welcome to BeautifulSoup</h1>\n",
      "\n",
      "\n",
      "<p>this is a example paragraph</p>\n",
      "\n",
      "\n",
      "<ul>\n",
      "<li>Item 1</li>\n",
      "<li>Item 2</li>\n",
      "<li>Item 3</li>\n",
      "</ul>\n",
      "\n",
      "\n"
     ]
    }
   ],
   "source": [
    "#accessing child elements \n",
    "div=soup.div\n",
    "children=div.children\n",
    "for child in children:\n",
    "    print(child)"
   ]
  },
  {
   "cell_type": "code",
   "execution_count": 28,
   "id": "08da1dd9",
   "metadata": {},
   "outputs": [
    {
     "data": {
      "text/plain": [
       "[<div class=\"my_class\">\n",
       " <h1>welcome to BeautifulSoup</h1>\n",
       " <p>this is a example paragraph</p>\n",
       " <ul>\n",
       " <li>Item 1</li>\n",
       " <li>Item 2</li>\n",
       " <li>Item 3</li>\n",
       " </ul>\n",
       " </div>]"
      ]
     },
     "execution_count": 28,
     "metadata": {},
     "output_type": "execute_result"
    }
   ],
   "source": [
    "elements=soup.find_all('div',class_='my_class')\n",
    "elements"
   ]
  },
  {
   "cell_type": "code",
   "execution_count": null,
   "id": "c452f467",
   "metadata": {},
   "outputs": [],
   "source": []
  },
  {
   "cell_type": "code",
   "execution_count": null,
   "id": "927aad5d",
   "metadata": {},
   "outputs": [],
   "source": []
  }
 ],
 "metadata": {
  "kernelspec": {
   "display_name": "Python 3 (ipykernel)",
   "language": "python",
   "name": "python3"
  },
  "language_info": {
   "codemirror_mode": {
    "name": "ipython",
    "version": 3
   },
   "file_extension": ".py",
   "mimetype": "text/x-python",
   "name": "python",
   "nbconvert_exporter": "python",
   "pygments_lexer": "ipython3",
   "version": "3.9.16"
  }
 },
 "nbformat": 4,
 "nbformat_minor": 5
}
